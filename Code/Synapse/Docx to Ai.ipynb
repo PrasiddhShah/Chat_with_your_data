{
  "cells": [
    {
      "cell_type": "code",
      "execution_count": 2,
      "metadata": {},
      "outputs": [
        {
          "data": {
            "application/vnd.livy.statement-meta+json": {
              "execution_finish_time": "2025-06-27T15:50:12.7223181Z",
              "execution_start_time": "2025-06-27T15:50:08.5043957Z",
              "livy_statement_state": "available",
              "normalized_state": "finished",
              "parent_msg_id": "38c6756d-2608-4be0-8186-435e97a7cb1c",
              "queued_time": "2025-06-27T15:50:08.5025204Z",
              "session_id": "1876",
              "session_start_time": null,
              "spark_jobs": null,
              "spark_pool": "smallbronzefull",
              "state": "finished",
              "statement_id": 3,
              "statement_ids": [
                3
              ]
            },
            "text/plain": [
              "StatementMeta(smallbronzefull, 1876, 3, Finished, Available, Finished)"
            ]
          },
          "metadata": {},
          "output_type": "display_data"
        },
        {
          "name": "stdout",
          "output_type": "stream",
          "text": [
            "Note: you may need to restart the kernel to use updated packages.\n"
          ]
        }
      ],
      "source": [
        "pip install -q openai azure-core azure-search-documents azure-storage-blob python-docx"
      ]
    },
    {
      "cell_type": "code",
      "execution_count": 4,
      "metadata": {},
      "outputs": [
        {
          "data": {
            "application/vnd.livy.statement-meta+json": {
              "execution_finish_time": "2025-06-27T15:50:35.725447Z",
              "execution_start_time": "2025-06-27T15:50:35.6452297Z",
              "livy_statement_state": "available",
              "normalized_state": "finished",
              "parent_msg_id": "dfd466ae-a738-48e3-8b50-a10ef5f63b7e",
              "queued_time": "2025-06-27T15:50:25.8241523Z",
              "session_id": "1876",
              "session_start_time": null,
              "spark_jobs": null,
              "spark_pool": "smallbronzefull",
              "state": "finished",
              "statement_id": 34,
              "statement_ids": [
                4,
                5,
                6,
                7,
                8,
                9,
                10,
                11,
                12,
                13,
                14,
                15,
                16,
                17,
                18,
                19,
                20,
                21,
                22,
                23,
                24,
                25,
                26,
                27,
                28,
                29,
                30,
                31,
                32,
                33,
                34
              ]
            },
            "text/plain": [
              "StatementMeta(smallbronzefull, 1876, 34, Finished, Available, Finished)"
            ]
          },
          "metadata": {},
          "output_type": "display_data"
        }
      ],
      "source": [
        "%run Functions/ReferenceFunctions"
      ]
    },
    {
      "cell_type": "code",
      "execution_count": 7,
      "metadata": {},
      "outputs": [
        {
          "data": {
            "application/vnd.livy.statement-meta+json": {
              "execution_finish_time": "2025-06-27T15:51:10.516469Z",
              "execution_start_time": "2025-06-27T15:51:08.4208082Z",
              "livy_statement_state": "available",
              "normalized_state": "finished",
              "parent_msg_id": "613cfdb6-e4db-4f4e-8d0f-906a2733fb53",
              "queued_time": "2025-06-27T15:51:08.4186802Z",
              "session_id": "1876",
              "session_start_time": null,
              "spark_jobs": null,
              "spark_pool": "smallbronzefull",
              "state": "finished",
              "statement_id": 37,
              "statement_ids": [
                37
              ]
            },
            "text/plain": [
              "StatementMeta(smallbronzefull, 1876, 37, Finished, Available, Finished)"
            ]
          },
          "metadata": {},
          "output_type": "display_data"
        }
      ],
      "source": [
        "from datetime import datetime\n",
        "import json\n",
        "from notebookutils import mssparkutils\n",
        "import adal, datetime, json, re, time\n",
        "from delta.tables import *\n",
        "from pyspark.sql.types import *\n",
        "\n",
        "from pyspark.sql.functions import *\n",
        "\n",
        "import pandas as pd\n",
        "from pyspark.sql.types import StructType, StructField, StringType, TimestampType"
      ]
    },
    {
      "cell_type": "code",
      "execution_count": null,
      "metadata": {},
      "outputs": [
        {
          "data": {
            "application/vnd.livy.statement-meta+json": {
              "execution_finish_time": "2025-06-27T15:51:13.4651213Z",
              "execution_start_time": "2025-06-27T15:51:12.1919642Z",
              "livy_statement_state": "available",
              "normalized_state": "finished",
              "parent_msg_id": "18a9091e-3c81-48e3-9fac-c212472f195e",
              "queued_time": "2025-06-27T15:51:12.1893116Z",
              "session_id": "1876",
              "session_start_time": null,
              "spark_jobs": null,
              "spark_pool": "smallbronzefull",
              "state": "finished",
              "statement_id": 38,
              "statement_ids": [
                38
              ]
            },
            "text/plain": [
              "StatementMeta(smallbronzefull, 1876, 38, Finished, Available, Finished)"
            ]
          },
          "metadata": {},
          "output_type": "display_data"
        }
      ],
      "source": [
        "TenantID = \"\"\n",
        "SynapseSPNClientID = \"\"\n",
        "KeyVaultName = \"\"\n",
        "ClientIDKeyVaultSecretName = \"\"\n",
        "AzureSQLJDBCURLSecretName = \"\"\n",
        "# Step 1: Get the Azure SQL JDBC URL\n",
        "\n",
        "tokenlibrary = sc._jvm.com.microsoft.azure.synapse.tokenlibrary.TokenLibrary  \n",
        "\n",
        "AzureSQLjdbcurl = tokenlibrary.getSecret(f\"{KeyVaultName}\", f\"{AzureSQLJDBCURLSecretName}\", \"ls_kv_dag\")  \n",
        "\n",
        "\n",
        "# Step 2: Get the Access Token\n",
        "\n",
        "access_token,exec_statement,con = jdbc_authorization(KeyVaultName, AzureSQLjdbcurl, ClientIDKeyVaultSecretName, TenantID, SynapseSPNClientID, \"SELECT 1\") "
      ]
    },
    {
      "cell_type": "code",
      "execution_count": 12,
      "metadata": {},
      "outputs": [
        {
          "data": {
            "application/vnd.livy.statement-meta+json": {
              "execution_finish_time": "2025-06-27T15:59:30.4869492Z",
              "execution_start_time": "2025-06-27T15:59:30.1993654Z",
              "livy_statement_state": "available",
              "normalized_state": "finished",
              "parent_msg_id": "04e9aa5f-0fa9-4cb2-b372-5cd4f367c2a0",
              "queued_time": "2025-06-27T15:59:30.1955451Z",
              "session_id": "1876",
              "session_start_time": null,
              "spark_jobs": null,
              "spark_pool": "smallbronzefull",
              "state": "finished",
              "statement_id": 42,
              "statement_ids": [
                42
              ]
            },
            "text/plain": [
              "StatementMeta(smallbronzefull, 1876, 42, Finished, Available, Finished)"
            ]
          },
          "metadata": {},
          "output_type": "display_data"
        }
      ],
      "source": [
        "def log_activity(pid, stage, status,start,end, size,filename):\n",
        "    duration = (end - start).total_seconds()\n",
        "    throughput = size/duration\n",
        "    start = start.strftime(\"%Y%m%d %H:%M:%S\")\n",
        "    end = end.strftime(\"%Y%m%d %H:%M:%S\")\n",
        "    stmt = con.createStatement()\n",
        "    insert = f\"INSERT INTO dbo.pipeline_activity(id,stage,file_name,stat,start_time,end_time,duration,size,throughput,) VALUES({pid},{stage},{filename},{status},{start},{end},{duration},{size},{throughput})\"\n",
        "    stmt.executeUpdate(insert)\n",
        "    con.commit()\n",
        "    print(f\"logs updated for {filename} with id: {pid}\")"
      ]
    },
    {
      "cell_type": "code",
      "execution_count": 13,
      "metadata": {},
      "outputs": [
        {
          "data": {
            "application/vnd.livy.statement-meta+json": {
              "execution_finish_time": "2025-06-27T15:59:36.9622825Z",
              "execution_start_time": "2025-06-27T15:59:36.681717Z",
              "livy_statement_state": "available",
              "normalized_state": "finished",
              "parent_msg_id": "38f29894-38a3-4c50-acbe-e45e4fb1647d",
              "queued_time": "2025-06-27T15:59:36.6782989Z",
              "session_id": "1876",
              "session_start_time": null,
              "spark_jobs": null,
              "spark_pool": "smallbronzefull",
              "state": "finished",
              "statement_id": 43,
              "statement_ids": [
                43
              ]
            },
            "text/plain": [
              "StatementMeta(smallbronzefull, 1876, 43, Finished, Available, Finished)"
            ]
          },
          "metadata": {},
          "output_type": "display_data"
        }
      ],
      "source": [
        "import io\n",
        "import uuid\n",
        "from datetime import datetime, timedelta\n",
        "from openai import AzureOpenAI\n",
        "from azure.core.credentials import AzureKeyCredential\n",
        "from azure.search.documents import SearchClient\n",
        "from azure.storage.blob import BlobServiceClient\n",
        "from azure.core.credentials import AzureKeyCredential\n",
        "from azure.search.documents import SearchClient\n",
        "from azure.search.documents.indexes import SearchIndexClient\n",
        "from azure.search.documents.indexes.models import (\n",
        "    SearchIndex,\n",
        "    SearchField,\n",
        "    SearchFieldDataType,\n",
        "    SimpleField,\n",
        "    SearchableField,\n",
        "    SearchIndex,\n",
        "    SearchField,\n",
        "    VectorSearch,\n",
        "    VectorSearchProfile,\n",
        "    HnswAlgorithmConfiguration,\n",
        "    SemanticSearch,\n",
        "    SemanticConfiguration,\n",
        "    SemanticPrioritizedFields,\n",
        "    SemanticField\n",
        ")\n",
        "from azure.storage.blob import (\n",
        "    BlobServiceClient,\n",
        "    BlobSasPermissions,\n",
        "    generate_blob_sas,\n",
        ")\n",
        "from docx import Document "
      ]
    },
    {
      "cell_type": "code",
      "execution_count": null,
      "metadata": {},
      "outputs": [
        {
          "data": {
            "application/vnd.livy.statement-meta+json": {
              "execution_finish_time": "2025-06-27T15:59:40.5276461Z",
              "execution_start_time": "2025-06-27T15:59:40.2518941Z",
              "livy_statement_state": "available",
              "normalized_state": "finished",
              "parent_msg_id": "47b2dcc6-7a35-4bdb-bfa0-7bcc75df0638",
              "queued_time": "2025-06-27T15:59:40.2498862Z",
              "session_id": "1876",
              "session_start_time": null,
              "spark_jobs": null,
              "spark_pool": "smallbronzefull",
              "state": "finished",
              "statement_id": 44,
              "statement_ids": [
                44
              ]
            },
            "text/plain": [
              "StatementMeta(smallbronzefull, 1876, 44, Finished, Available, Finished)"
            ]
          },
          "metadata": {},
          "output_type": "display_data"
        }
      ],
      "source": [
        "service_endpoint = \"\"\n",
        "index_name       = \"docxidx\"\n",
        "key              = \"\"\n",
        "credential       = AzureKeyCredential(key)\n",
        "vector_dims       = 1536\n",
        "algo_name         = \"hnsw-cosine\"\n",
        "profile_name      = \"openai-ada-profile\""
      ]
    },
    {
      "cell_type": "code",
      "execution_count": 15,
      "metadata": {},
      "outputs": [
        {
          "data": {
            "application/vnd.livy.statement-meta+json": {
              "execution_finish_time": "2025-06-27T15:59:42.8470571Z",
              "execution_start_time": "2025-06-27T15:59:42.1692171Z",
              "livy_statement_state": "available",
              "normalized_state": "finished",
              "parent_msg_id": "b2f4fee6-a212-4f46-b855-4f9b024a8c51",
              "queued_time": "2025-06-27T15:59:42.1659547Z",
              "session_id": "1876",
              "session_start_time": null,
              "spark_jobs": null,
              "spark_pool": "smallbronzefull",
              "state": "finished",
              "statement_id": 45,
              "statement_ids": [
                45
              ]
            },
            "text/plain": [
              "StatementMeta(smallbronzefull, 1876, 45, Finished, Available, Finished)"
            ]
          },
          "metadata": {},
          "output_type": "display_data"
        },
        {
          "data": {
            "text/plain": [
              "<azure.search.documents.indexes.models._index.SearchIndex at 0x77be6aaac130>"
            ]
          },
          "execution_count": 91,
          "metadata": {},
          "output_type": "execute_result"
        }
      ],
      "source": [
        "# Define the index fields\n",
        "client = SearchIndexClient(service_endpoint, credential)\n",
        "fields = [\n",
        "    SimpleField(name=\"id\",   type=SearchFieldDataType.String,key=True, sortable=True, filterable=True, facetable=True),\n",
        "    SimpleField(name=\"file_name\", type=SearchFieldDataType.String),\n",
        "    \n",
        "    SimpleField(name=\"page_number\",type=SearchFieldDataType.Int32,sortable=True,filterable=True,facetable=False),\n",
        "    SearchableField(name=\"content\", type=SearchFieldDataType.String),\n",
        "    SearchField(name=\"content_vector\",type=SearchFieldDataType.Collection(SearchFieldDataType.Single),searchable=True,vector_search_dimensions=1536,vector_search_profile_name=\"my-vector-config\"),\n",
        "    SimpleField(name=\"storage_url\",type=SearchFieldDataType.String,filterable=False,facetable=False,sortable=False)\n",
        "]\n",
        " \n",
        "vector_search = VectorSearch(\n",
        "    profiles=[VectorSearchProfile(name=\"my-vector-config\",\n",
        "                                algorithm_configuration_name=\"my-algorithms-config\")],\n",
        "    algorithms=[HnswAlgorithmConfiguration(name=\"my-algorithms-config\")],\n",
        ")\n",
        "\n",
        "# Define semantic configuration\n",
        "semantic_config = SemanticConfiguration(\n",
        "    name=\"semantic-config\",\n",
        "    prioritized_fields=SemanticPrioritizedFields(\n",
        "        title_field=SemanticField(field_name=\"file_name\"),\n",
        "        content_fields=[SemanticField(field_name=\"content\")]\n",
        "    )\n",
        ")\n",
        "\n",
        "# Add semantic search to the index\n",
        "semantic_search = SemanticSearch(\n",
        "    default_configuration_name=\"semantic-config\",\n",
        "    configurations=[semantic_config]\n",
        ")\n",
        "\n",
        "# Update the index definition\n",
        "index = SearchIndex(\n",
        "    name=index_name,\n",
        "    fields=fields,\n",
        "    vector_search=vector_search,\n",
        "    semantic_search=semantic_search\n",
        ")\n",
        "\n",
        "client.create_or_update_index(index)"
      ]
    },
    {
      "cell_type": "code",
      "execution_count": null,
      "metadata": {},
      "outputs": [
        {
          "data": {
            "application/vnd.livy.statement-meta+json": {
              "execution_finish_time": "2025-06-27T15:50:12.7477854Z",
              "execution_start_time": null,
              "livy_statement_state": null,
              "normalized_state": "cancelled",
              "parent_msg_id": "a09efddc-a155-4802-97db-d9ef1c3b17ef",
              "queued_time": "2025-06-27T15:50:09.1334755Z",
              "session_id": "1876",
              "session_start_time": null,
              "spark_jobs": null,
              "spark_pool": null,
              "state": "cancelled",
              "statement_id": -1,
              "statement_ids": null
            },
            "text/plain": [
              "StatementMeta(, 1876, -1, Cancelled, , Cancelled)"
            ]
          },
          "metadata": {},
          "output_type": "display_data"
        }
      ],
      "source": [
        "# ─── 1. CONFIG ────────────────────────────────────────────────────────────────\n",
        "AZURE_OPENAI_ENDPOINT  = \"\"\n",
        "AZURE_OPENAI_KEY       = \"\"\n",
        "AZURE_OPENAI_API_VER   = \"2024-10-21\"\n",
        "EMBED_DEPLOYMENT       = \"emb\"\n",
        " \n",
        "SEARCH_ENDPOINT        = \"\"\n",
        "SEARCH_API_KEY         = \"\"\n",
        "SEARCH_INDEX_NAME      = \"docxidx\"\n",
        " \n",
        "ADLS_CONNECTION_STRING = \"\"  # blob endpoint\n",
        "ADLS_CONTAINER_NAME    = \"\"\n",
        "ADLS_DIR_PREFIX        = \"\"\n",
        "ADLS_STORAGE_ACCOUNT  = \"\"\n",
        "ADLS_STORAGE_KEY = \"\"\n",
        " \n",
        "TEXT_MIN_CHARS         = 5\n",
        " \n",
        "# ─── 2. CLIENTS ───────────────────────────────────────────────────────────────\n",
        "openai_client = AzureOpenAI(\n",
        "    api_key        = AZURE_OPENAI_KEY,\n",
        "    azure_endpoint = AZURE_OPENAI_ENDPOINT,\n",
        "    api_version    = AZURE_OPENAI_API_VER,\n",
        ")\n",
        " \n",
        "search_client = SearchClient(\n",
        "    endpoint   = SEARCH_ENDPOINT,\n",
        "    index_name = SEARCH_INDEX_NAME,\n",
        "    credential = AzureKeyCredential(SEARCH_API_KEY)\n",
        ")\n",
        " \n",
        "blob_service  = BlobServiceClient.from_connection_string(ADLS_CONNECTION_STRING)\n",
        " \n",
        "container     = blob_service.get_container_client(ADLS_CONTAINER_NAME)\n",
        " \n",
        "# ─── 3. HELPERS ───────────────────────────────────────────────────────────────\n",
        "def create_embedding(text: str, model: str = EMBED_DEPLOYMENT) -> list[float]:\n",
        "    \"\"\"Return the embedding vector for `text`.\"\"\"\n",
        "    return openai_client.embeddings.create(input=[text], model=model).data[0].embedding\n",
        "\n",
        "def docx_paragraphs_from_bytes(doc_bytes: bytes):\n",
        "    doc = Document(io.BytesIO(doc_bytes))\n",
        "    seg_no = 0\n",
        "    for para in doc.paragraphs:\n",
        "        text = para.text.strip()\n",
        "        if len(text) >= TEXT_MIN_CHARS:\n",
        "            seg_no += 1\n",
        "            yield seg_no, text\n",
        "\n",
        "def make_sas_url(file_name: str) -> str:\n",
        "    sas = generate_blob_sas(\n",
        "        account_name  = ADLS_STORAGE_ACCOUNT,\n",
        "        container_name= ADLS_CONTAINER_NAME,\n",
        "        blob_name     = file_name,\n",
        "        account_key   = ADLS_STORAGE_KEY,\n",
        "        permission    = BlobSasPermissions(read=True),\n",
        "        expiry        = datetime.utcnow() + timedelta(days=7),\n",
        "    )\n",
        "    return f\"https://{ADLS_STORAGE_ACCOUNT}.blob.core.usgovcloudapi.net/{ADLS_CONTAINER_NAME}/{file_name}?{sas}\"\n",
        " \n",
        "# ─── 4. MAIN ──────────────────────────────────────────────────────────────────\n",
        "\n",
        "def main():\n",
        "    uploaded = skipped = 0\n",
        "    start = datetime.utcnow()\n",
        "    print(\"➜ Scanning ADLS container for DOCX files …\")\n",
        "    total_docx_parsed = 0\n",
        "    total_docx = 0\n",
        "    page_parsed = 0\n",
        "    docx_size =0\n",
        "\n",
        "    for blob in container.list_blobs(name_starts_with=ADLS_DIR_PREFIX):\n",
        "     \n",
        "        if not blob.name.lower().endswith(\".docx\"):\n",
        "            continue\n",
        "        print(f\"\\n➜ Processing {blob.name}\")\n",
        "        doc_bytes = container.download_blob(blob.name).readall()\n",
        "        total_docx += 1\n",
        "        docx_size += len(doc_bytes)\n",
        "        for seg_no, text in docx_paragraphs_from_bytes(doc_bytes):\n",
        "            doc_record = {\n",
        "                \"id\"            : str(uuid.uuid4()),\n",
        "                \"file_name\"     : blob.name,\n",
        "                \"page_number\"   : seg_no,        \n",
        "                \"content\"       : text,\n",
        "                \"content_vector\": create_embedding(text),\n",
        "                \"storage_url\"   : make_sas_url(blob.name),\n",
        "            }\n",
        "            result = search_client.upload_documents([doc_record])[0]\n",
        "            status = \"✓\" if result.succeeded else \"✗\"\n",
        "            if(status == \"✓\"):\n",
        "                page_parsed += 1\n",
        "            uploaded += int(result.succeeded)\n",
        "            skipped  += int(not result.succeeded)\n",
        "        if(page_parsed > 0):\n",
        "            total_docx_parsed +=1\n",
        "        print(f\"Total page parsed {page_parsed}\")\n",
        "        page_parsed = 0\n",
        "        end = datetime.utcnow()\n",
        "        pid = str(uuid.uuid4())\n",
        "        stage = \"Bronze to Silver\"\n",
        "        status = \"Convert DOCX to Ai\"\n",
        "        size = docx_size\n",
        "        log_activity(pid, stage,blob.name, status,start,end, size)\n",
        " \n",
        "    print(f\"\\nDone. {uploaded} segments indexed, {skipped} segments failed.\")\n",
        "    print(f\"Total DOCX processed: {total_docx_parsed}\\n Total DOCX in Raw: {total_docx}\" )\n",
        "    \n",
        " \n",
        "if __name__ == \"__main__\":\n",
        "\n",
        "    main()\n",
        " "
      ]
    }
  ],
  "metadata": {
    "kernel_info": {
      "name": "synapse_pyspark"
    },
    "kernelspec": {
      "display_name": "Synapse PySpark",
      "language": "Python",
      "name": "synapse_pyspark"
    },
    "language_info": {
      "name": "python"
    },
    "save_output": true,
    "synapse_widget": {
      "state": {},
      "version": "0.1"
    }
  },
  "nbformat": 4,
  "nbformat_minor": 2
}
