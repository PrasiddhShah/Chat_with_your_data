{
  "cells": [
    {
      "cell_type": "code",
      "source": [
        "from datetime import datetime\n",
        "import json\n",
        "from notebookutils import mssparkutils\n"
      ],
      "outputs": [],
      "execution_count": null,
      "metadata": {}
    },
    {
      "cell_type": "code",
      "source": [
        "%run Functions/ReferenceFunctions"
      ],
      "outputs": [],
      "execution_count": null,
      "metadata": {}
    },
    {
      "cell_type": "code",
      "source": [
        "TenantID = \"817ee1ce-6f1d-4c9d-adbe-d99f5c115c71\"\n",
        "SynapseSPNClientID = \"5e73d77b-9b46-4bac-9ad3-2c93c1a82c74\"\n",
        "KeyVaultName = \"https://czv-g-n-gendag-d-akv-02.vault.usgovcloudapi.net/\"\n",
        "ClientIDKeyVaultSecretName = \"DAG-AzureSynapse-Virginia-ClientSecret\"\n",
        "AzureSQLJDBCURLSecretName = \"DAG-AzureSQL-DAGTools-Virginia-JDBCURL-Secret\"\n",
        "# Step 1: Get the Azure SQL JDBC URL\n",
        "\n",
        "tokenlibrary = sc._jvm.com.microsoft.azure.synapse.tokenlibrary.TokenLibrary  \n",
        "\n",
        "AzureSQLjdbcurl = tokenlibrary.getSecret(f\"{KeyVaultName}\", f\"{AzureSQLJDBCURLSecretName}\", \"ls_kv_dag\")  \n",
        "\n",
        "\n",
        "# Step 2: Get the Access Token\n",
        "\n",
        "access_token,exec_statement,con = jdbc_authorization(KeyVaultName, AzureSQLjdbcurl, ClientIDKeyVaultSecretName, TenantID, SynapseSPNClientID, \"SELECT 1\") "
      ],
      "outputs": [],
      "execution_count": null,
      "metadata": {}
    },
    {
      "cell_type": "code",
      "source": [
        "def log_activity(pid, stage, status,start,end, size,filename):\n",
        "    duration = (end - start).total_seconds()\n",
        "    throughput = size/duration\n",
        "    start = start.strftime(\"%Y%m%d %H:%M:%S\")\n",
        "    end = end.strftime(\"%Y%m%d %H:%M:%S\")\n",
        "    stmt = con.createStatement()\n",
        "    insert = f\"INSERT INTO dbo.pipeline_activity(id,stage,file_name,stat,start_time,end_time,duration,size,throughput,) VALUES({pid},{stage},{filename},{status},{start},{end},{duration},{size},{throughput})\"\n",
        "    stmt.executeUpdate(insert)\n"
      ],
      "outputs": [],
      "execution_count": null,
      "metadata": {}
    }
  ],
  "metadata": {
    "kernelspec": {
      "name": "synapse_pyspark",
      "display_name": "python"
    },
    "language_info": {
      "name": "python"
    },
    "save_output": true,
    "synapse_widget": {
      "version": "0.1",
      "state": {}
    }
  },
  "nbformat": 4,
  "nbformat_minor": 2
}