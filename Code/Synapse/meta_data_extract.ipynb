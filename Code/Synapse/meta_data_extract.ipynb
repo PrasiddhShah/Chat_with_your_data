{
  "cells": [
    {
      "cell_type": "code",
      "execution_count": 6,
      "metadata": {},
      "outputs": [],
      "source": [
        "from ntpath import join\n",
        "import requests\n",
        "import base64\n",
        "import json\n",
        "import time"
      ]
    },
    {
      "cell_type": "code",
      "execution_count": 7,
      "metadata": {},
      "outputs": [],
      "source": [
        "def doc_list(urls, username, password, page_num=1):\n",
        "    credentials = f\"{username}:{password}\"\n",
        "    count = 0\n",
        "    file_id = list()\n",
        "    last_page = True\n",
        "    encoded_credentials = base64.b64encode(credentials.encode()).decode()\n",
        "    headers = {\n",
        "        \"Accept\": \"application/vnd.emc.documentum+json\",\n",
        "        \"Authorization\": f\"Basic {encoded_credentials}\"\n",
        "    }\n",
        "    for url in urls:\n",
        "        page_num = 1  # reset per URL\n",
        "        print(f\"getting data from {url}\")\n",
        "        while last_page:\n",
        "            content_url = f\"{url}&page={page_num}\"\n",
        "            response = requests.get(content_url, headers=headers)\n",
        "            data = response.json()\n",
        "            if not data.get('entries'):\n",
        "                break\n",
        "            for entry in data.get('entries', []):\n",
        "                file_id.append(entry[\"content\"][\"properties\"][\"r_object_id\"])\n",
        "                count += 1\n",
        "            page_num += 1  # moved outside the for-loop \n",
        "    return file_id, count"
      ]
    },
    {
      "cell_type": "code",
      "execution_count": null,
      "metadata": {},
      "outputs": [],
      "source": [
        "def metadata_extraction(username, password, file_id):\n",
        "    metadata_list = []\n",
        "    for id in file_id:\n",
        "        content_url = f\"\"\n",
        "        credentials = f\"{username}:{password}\"\n",
        "        encoded_credentials = base64.b64encode(credentials.encode()).decode()\n",
        "        headers = {\n",
        "            \"Accept\": \"application/vnd.emc.documentum+json\",\n",
        "            \"Authorization\": f\"Basic {encoded_credentials}\"\n",
        "        }\n",
        "        response = requests.get(content_url, headers=headers)\n",
        "        if response.status_code != 200:\n",
        "            print(f\"Error: {response.status_code} - {response.text}\")\n",
        "            continue\n",
        "        data = response.json()\n",
        "        properties = data.get(\"properties\", {})\n",
        "        print(f\"doc)name: {properties.get('object_name', 'No object_name found')}, doc_id: {properties.get('r_object_id', 'No r_object_id found')}\")\n",
        "        metadata = {\n",
        "            \"doc_id\": properties.get(\"r_object_id\", \"No r_object_id found\"),\n",
        "            \"cabinet\": properties.get(\"i_cabinet_id\", \"No i_cabinet_id found\"),\n",
        "            \"folder_id\": properties.get(\"i_folder_id\", [None])[0],\n",
        "            \"doc_name\": properties.get(\"object_name\", \"No object_name found\"),\n",
        "            \"doc_number\": properties.get(\"doc_number\", \"No doc_number found\"),\n",
        "            \"doc_type\": properties.get(\"a_content_type\", \"No a_content_type found\"),\n",
        "            \"created_date\": properties.get(\"r_creation_date\", \"No r_creation_date found\"),\n",
        "            \"updated_date\": properties.get(\"r_modify_date\", \"No r_modify_date found\"),\n",
        "            \"created_by\": properties.get(\"r_creator_name\", \"No r_creator found\"),\n",
        "            \"facility\": properties.get(\"facility\", \"No facility found\"),\n",
        "            \"doc_type\": properties.get(\"doc_type\", \"No doc_type found\"),\n",
        "            \"sub_type\": properties.get(\"sub_type\", \"No sub_type found\"),\n",
        "            \"doc_number\": properties.get(\"doc_number\", \"No doc_number found\"),\n",
        "            \"sheet\": properties.get(\"sheet\", \"No sheet found\"),\n",
        "            \"major_rev\": properties.get(\"major_rev\", \"No major_rev found\"),\n",
        "            \"minor_rev\": properties.get(\"minor_rev\", \"No minor_rev found\"),\n",
        "            \"status_date\": properties.get(\"status_date\", \"No status_date found\"),\n",
        "            \"status\": properties.get(\"status\", \"No status found\"),\n",
        "            \"doc_date\": properties.get(\"doc_date\", \"No doc_date found\"),\n",
        "            \"unit\": properties.get(\"unit\", \"No unit found\"),\n",
        "            \"d_code\": properties.get(\"d_code\", \"No d_code found\"),\n",
        "            \"rev_index\": properties.get(\"rev_index\", \"No rev_index found\"),\n",
        "            \"sec_flag\": properties.get(\"sec_flag\", \"No sec_flag found\"),\n",
        "            \"r_version_label\":\",\".join(data.get(\"properties\", {}).get(\"r_version_label\", \"No r_version_label found\")),\n",
        "            \"title\": properties.get(\"title\", \"No title found\"),\n",
        "            \"subject\": properties.get(\"subject\", \"No subject found\"),\n",
        "            \"authors\": ','.join(data.get(\"properties\", {}).get(\"authors\", \"No authors found\")),\n",
        "            \"r_content_size\": properties.get(\"r_content_size\", 0)/1024,\n",
        "            \"owner_name\": properties.get(\"owner_name\", \"No owner_name found\"),\n",
        "            \"r_modifier\": properties.get(\"r_modifier\", \"No r_modifier found\"),\n",
        "            \"r_access_date\": properties.get(\"r_access_date\", \"No r_access_date found\"),\n",
        "            \"a_storage_type\": properties.get(\"a_storage_type\", \"No a_storage_type found\"),\n",
        "            \"r_immutable_flag\": properties.get(\"r_immutable_flag\", \"No r_immutable_flag found\"),\n",
        "\n",
        "            \"active_flag\": \"active\"\n",
        "        }\n",
        "        metadata_list.append(metadata)\n",
        "    return metadata_list"
      ]
    },
    {
      "cell_type": "code",
      "execution_count": 9,
      "metadata": {},
      "outputs": [],
      "source": [
        "def save_metadata_to_file(metadata_list, filename=\"metadata_pro.json\"):\n",
        "    print(f\"Saving metadata to {filename}\")\n",
        "    with open(filename, \"a\") as f:\n",
        "        for metadata in metadata_list:\n",
        "            f.write(json.dumps(metadata) + \"\\n\")"
      ]
    },
    {
      "cell_type": "code",
      "execution_count": null,
      "metadata": {},
      "outputs": [],
      "source": [
        "start = time.perf_counter()\n",
        "USERNAME = \"svc_gendatastrategy\"\n",
        "PASSWORD = \"bpC_8p7aP4umq3c-MkH_\"\n",
        "url = []\n",
        "file_id, count = doc_list(url, USERNAME, PASSWORD)\n",
        "print(f\"Total files processed: {count}\")\n",
        "\n",
        "#metadata_list = metadata_extraction(USERNAME, PASSWORD, file_id)\n",
        "\n",
        "end = time.perf_counter()\n",
        "print(f\"Execution time: {end - start} seconds\")\n",
        "\n"
      ]
    },
    {
      "cell_type": "code",
      "execution_count": null,
      "metadata": {},
      "outputs": [],
      "source": [
        "content_url = f\"\"\n",
        "username = \"svc_gendatastrategy\"\n",
        "password = \"bpC_8p7aP4umq3c-MkH_\"\n",
        "credentials = f\"{username}:{password}\"\n",
        "encoded_credentials = base64.b64encode(credentials.encode()).decode()\n",
        "headers = {\n",
        "    \"Accept\": \"application/vnd.emc.documentum+json\",\n",
        "    \"Authorization\": f\"Basic {encoded_credentials}\"\n",
        "}\n",
        "response = requests.get(content_url, headers=headers)"
      ]
    }
  ],
  "metadata": {
    "kernelspec": {
      "display_name": "Synapse PySpark",
      "name": "synapse_pyspark"
    },
    "language_info": {
      "name": "python"
    },
    "save_output": true
  },
  "nbformat": 4,
  "nbformat_minor": 2
}
